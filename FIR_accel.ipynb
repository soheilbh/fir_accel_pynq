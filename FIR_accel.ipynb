{
 "cells": [
  {
   "cell_type": "markdown",
   "id": "c9c1ce21",
   "metadata": {},
   "source": [
    "# Accelerating a FIR Filter on the PYNQ-Z2 with the Zynq-7020 SoC\n",
    "\n",
    "This Jupyter Notebook demonstrates the acceleration of a Finite Impulse Response (FIR) filter using the PYNQ framework on the **PYNQ-Z2** board, which features the **Zynq-7020 System on Chip (SoC)**. The workflow includes:\n",
    "\n",
    "1. **Software Implementation**: Applying the FIR filter in Python using SciPy's `lfilter` function.\n",
    "2. **Hardware Acceleration**: Loading a custom overlay that implements the FIR in programmable logic, using **DMA for data transfer**.\n",
    "3. **Performance Comparison**: Measuring and comparing execution times of both implementations.\n",
    "\n",
    "This notebook is based on the tutorial [*How to accelerate a function with PYNQ*](https://www.youtube.com/watch?v=PwG037LuNvA) by **Jeff Johnson** of **FPGA Developer**. Updates have been made to align with the latest PYNQ features, including the use of the `allocate` function for buffer management and the incorporation of the `.hwh` hardware handoff file for overlay descriptions.\n",
    "\n",
    "> ✨ The code in this notebook has been cleaned, restructured, and fully commented with the help of **ChatGPT-4**."
   ]
  },
  {
   "cell_type": "markdown",
   "id": "7a9f89e4",
   "metadata": {},
   "source": [
    "---"
   ]
  },
  {
   "cell_type": "markdown",
   "id": "fe5551b9",
   "metadata": {},
   "source": [
    "## Import Required Libraries\n",
    "\n",
    "This cell loads all necessary Python and PYNQ libraries used throughout the notebook:\n",
    "- Standard scientific and plotting libraries (`numpy`, `matplotlib`, `scipy`)\n",
    "- Timing for performance measurement\n",
    "- PYNQ-specific libraries for overlay loading, buffer allocation, and DMA access"
   ]
  },
  {
   "cell_type": "code",
   "execution_count": null,
   "id": "1ee0d92c",
   "metadata": {},
   "outputs": [],
   "source": [
    "# Enable interactive plots in the notebook\n",
    "%matplotlib notebook\n",
    "\n",
    "# Plotting and signal processing libraries\n",
    "import matplotlib.pyplot as plt\n",
    "import numpy as np\n",
    "from scipy.signal import lfilter\n",
    "\n",
    "# For timing execution durations\n",
    "import time\n",
    "\n",
    "# PYNQ libraries: overlay handling, buffer allocation, DMA, and hierarchy support\n",
    "from pynq import Overlay, allocate, DefaultHierarchy\n",
    "import pynq.lib.dma"
   ]
  },
  {
   "cell_type": "markdown",
   "id": "21b8b443",
   "metadata": {},
   "source": [
    "## Plotting Helper Function\n",
    "\n",
    "The function below is used to plot data throughout this notebook. It helps visualize both the input signal and the output from the FIR filter.  \n",
    "The `n_samples` argument allows you to limit the number of samples being plotted, which is important — plotting too many samples can be slow and memory-intensive in a Jupyter environment."
   ]
  },
  {
   "cell_type": "code",
   "execution_count": null,
   "id": "ebddf94b",
   "metadata": {},
   "outputs": [],
   "source": [
    "def plot_to_notebook(time_sec, in_signal, n_samples, out_signal=None):\n",
    "    # Create a new figure and configure the plot\n",
    "    plt.figure()\n",
    "    plt.subplot(1, 1, 1)\n",
    "    plt.xlabel('Time (usec)')\n",
    "    plt.grid()\n",
    "\n",
    "    # Plot the input signal\n",
    "    plt.plot(time_sec[:n_samples] * 1e6, in_signal[:n_samples], 'y-', label='Input signal')\n",
    "\n",
    "    # If an output signal is provided, plot it as well\n",
    "    if out_signal is not None:\n",
    "        plt.plot(time_sec[:n_samples] * 1e6, out_signal[:n_samples], 'g-', linewidth=2, label='FIR output')\n",
    "\n",
    "    plt.legend()"
   ]
  },
  {
   "cell_type": "markdown",
   "id": "5cb0ef62",
   "metadata": {},
   "source": [
    "## Generate the Input Signal\n",
    "\n",
    "This code block generates a composite \"noisy\" signal that will serve as the input to both the software and hardware FIR filters.  \n",
    "The main signal is a 200 kHz sine wave, and we add two higher-frequency components at 12 MHz and 46 MHz to simulate noise.  \n",
    "The signal is sampled at 100 MHz over a duration of 2 milliseconds."
   ]
  },
  {
   "cell_type": "code",
   "execution_count": null,
   "id": "6b3bbf48",
   "metadata": {},
   "outputs": [],
   "source": [
    "# Signal parameters\n",
    "T = 0.002        # Total duration in seconds (2 ms)\n",
    "fs = 100e6       # Sampling frequency (100 MHz)\n",
    "n = int(T * fs)  # Total number of samples\n",
    "\n",
    "# Time vector\n",
    "t = np.linspace(0, T, n, endpoint=False)\n",
    "\n",
    "# Composite signal:\n",
    "# - 200 kHz sine wave (main signal)\n",
    "# - 46 MHz cosine wave (high-frequency noise)\n",
    "# - 12 MHz sine wave (mid-frequency noise)\n",
    "samples = (\n",
    "    10000 * np.sin(0.2e6 * 2 * np.pi * t) +\n",
    "    1500  * np.cos(46e6 * 2 * np.pi * t) +\n",
    "    2000  * np.sin(12e6 * 2 * np.pi * t)\n",
    ")\n",
    "\n",
    "# Convert to 32-bit integers for hardware compatibility\n",
    "samples = samples.astype(np.int32)\n",
    "\n",
    "# Display number of samples\n",
    "print('Number of samples:', len(samples))\n",
    "\n",
    "# Plot a portion of the input signal\n",
    "plot_to_notebook(t, samples, 1000)"
   ]
  },
  {
   "cell_type": "markdown",
   "id": "2ec04ea4",
   "metadata": {},
   "source": [
    "## Software FIR Filter Using SciPy\n",
    "\n",
    "In this step, we apply the FIR filter to our input signal using SciPy's `lfilter` function.  \n",
    "The filter uses 27 pre-defined coefficients representing a low-pass filter with a passband from 0 to 5 MHz.  \n",
    "These coefficients were generated using [this online FIR filter design tool](http://l-filter.engineerjs.com/).  \n",
    "The code also measures the execution time of the software filtering operation and plots the result."
   ]
  },
  {
   "cell_type": "code",
   "execution_count": null,
   "id": "a9a94c03",
   "metadata": {},
   "outputs": [],
   "source": [
    "# FIR filter coefficients (27-tap low-pass filter, 0–5 MHz passband)\n",
    "coeffs = [\n",
    "    -255, -260, -312, -288, -144, 153, 616, 1233, 1963,\n",
    "    2739, 3474, 4081, 4481, 4620, 4481, 4081, 3474, 2739,\n",
    "    1963, 1233, 616, 153, -144, -288, -312, -260, -255\n",
    "]\n",
    "\n",
    "# Measure execution time of software FIR using SciPy\n",
    "start_time = time.time()\n",
    "sw_fir_output = lfilter(coeffs, 70e3, samples)  # 70kHz scale factor\n",
    "stop_time = time.time()\n",
    "\n",
    "# Compute and display execution time\n",
    "sw_exec_time = stop_time - start_time\n",
    "print(\"Software FIR execution time:\", sw_exec_time)\n",
    "\n",
    "# Plot the result of software FIR filtering\n",
    "plot_to_notebook(t, samples, 1000, out_signal=sw_fir_output)"
   ]
  },
  {
   "cell_type": "markdown",
   "id": "866f4c2e",
   "metadata": {},
   "source": [
    "## Hardware FIR Implementation\n",
    "\n",
    "In the following code blocks, we test the hardware-accelerated FIR filter implemented in programmable logic on the PYNQ-Z2.  \n",
    "We use a custom overlay with DMA-based data transfer, and measure the performance of the hardware FIR in comparison to the software version."
   ]
  },
  {
   "cell_type": "markdown",
   "id": "14c3bc84",
   "metadata": {},
   "source": [
    "### Load the Overlay and Access the DMA\n",
    "\n",
    "We begin the hardware filtering process by loading the custom overlay that contains the FIR IP core and DMA engine.  \n",
    "Once loaded, we access the DMA interface exposed through the `filter` hierarchy.\n",
    "\n",
    "> 📁 **Note:**  \n",
    "In the original tutorial, the `.bit` and `.tcl` files were placed in the PYNQ overlays directory  \n",
    "(e.g., `/home/xilinx/pynq/overlays/fir_accel/`). In our version, we do **not use the `.tcl` file**.\n",
    "\n",
    "Instead, we place both the `.bit` and the `.hwh` file directly in the same folder as this notebook.  \n",
    "The `.hwh` file must be **exported from your Vivado project** alongside the `.bit` file.  \n",
    "Both files must:\n",
    "- Have the **same base name** (e.g., `fir_accel.bit` and `fir_accel.hwh`)\n",
    "- Be located in the **same directory as the notebook**"
   ]
  },
  {
   "cell_type": "code",
   "execution_count": null,
   "id": "0b7615e1",
   "metadata": {},
   "outputs": [],
   "source": [
    "# Load the custom overlay containing the FIR accelerator\n",
    "overlay = Overlay('fir_accel.bit')\n",
    "\n",
    "# Access the DMA engine from the 'filter' hierarchy\n",
    "dma = overlay.filter.fir_dma"
   ]
  },
  {
   "cell_type": "markdown",
   "id": "e7f3b478",
   "metadata": {},
   "source": [
    "### Run the Hardware FIR Filter and Measure Performance\n",
    "\n",
    "In this step, we allocate input and output buffers using PYNQ's `allocate()` function, copy the input signal into the buffer,  \n",
    "and transfer the data to the programmable logic using DMA.  \n",
    "We then measure the execution time of the hardware FIR filter and compute the acceleration factor compared to the software version."
   ]
  },
  {
   "cell_type": "code",
   "execution_count": null,
   "id": "354a3b19",
   "metadata": {},
   "outputs": [],
   "source": [
    "# Allocate input and output buffers in contiguous memory\n",
    "in_buffer = allocate(shape=(n,), dtype=np.int32)\n",
    "out_buffer = allocate(shape=(n,), dtype=np.int32)\n",
    "\n",
    "# Copy the input signal into the input buffer\n",
    "np.copyto(in_buffer, samples)\n",
    "\n",
    "# Measure execution time of hardware FIR via DMA\n",
    "start_time = time.time()\n",
    "\n",
    "dma.sendchannel.transfer(in_buffer)\n",
    "dma.recvchannel.transfer(out_buffer)\n",
    "dma.sendchannel.wait()\n",
    "dma.recvchannel.wait()\n",
    "\n",
    "stop_time = time.time()\n",
    "hw_exec_time = stop_time - start_time\n",
    "\n",
    "# Display execution time and acceleration factor\n",
    "print('Hardware FIR execution time:', hw_exec_time)\n",
    "print('Hardware acceleration factor:', sw_exec_time / hw_exec_time)\n",
    "\n",
    "# Release memory\n",
    "in_buffer.close()\n",
    "out_buffer.close()"
   ]
  },
  {
   "cell_type": "markdown",
   "id": "921a8a3d",
   "metadata": {},
   "source": [
    "### Driver for the FIR Accelerator\n",
    "\n",
    "To simplify the interaction with the FIR accelerator and hide the low-level DMA details,  \n",
    "we define a custom driver class. This class will be automatically associated with the `filter` hierarchy  \n",
    "created in Vivado, which includes both the FIR IP core and the DMA engine.  \n",
    "\n",
    "Using this `Filter` class, we can invoke hardware filtering with a single method call."
   ]
  },
  {
   "cell_type": "code",
   "execution_count": null,
   "id": "d6c9034e",
   "metadata": {},
   "outputs": [],
   "source": [
    "class Filter(DefaultHierarchy):\n",
    "    def __init__(self, description):\n",
    "        super().__init__(description)\n",
    "\n",
    "    def fir_filter(self, data):\n",
    "        # Allocate input and output buffers\n",
    "        n = len(data)\n",
    "        with allocate(shape=(n,), dtype=np.int32) as in_buffer, \\\n",
    "             allocate(shape=(n,), dtype=np.int32) as out_buffer:\n",
    "\n",
    "            # Copy input data into buffer\n",
    "            np.copyto(in_buffer, data)\n",
    "\n",
    "            # Perform DMA transfer to/from FIR accelerator\n",
    "            self.fir_dma.sendchannel.transfer(in_buffer)\n",
    "            self.fir_dma.recvchannel.transfer(out_buffer)\n",
    "            self.fir_dma.sendchannel.wait()\n",
    "            self.fir_dma.recvchannel.wait()\n",
    "\n",
    "            # Return a copy of the output result\n",
    "            result = out_buffer.copy()\n",
    "        return result\n",
    "\n",
    "    @staticmethod\n",
    "    def checkhierarchy(description):\n",
    "        # Auto-associate this class if 'fir_dma' is in the IP hierarchy\n",
    "        return 'fir_dma' in description['ip']"
   ]
  },
  {
   "cell_type": "markdown",
   "id": "58eec2d7",
   "metadata": {},
   "source": [
    "### Reload the Overlay and Use the Custom Driver\n",
    "\n",
    "We reload the overlay to ensure that the custom `Filter` driver is automatically attached  \n",
    "to the `filter` hierarchy. Then we call the `fir_filter()` method to process the input signal  \n",
    "using the hardware accelerator, measure execution time, and visualize the output."
   ]
  },
  {
   "cell_type": "code",
   "execution_count": null,
   "id": "723dbc3e",
   "metadata": {},
   "outputs": [],
   "source": [
    "# Reload the overlay to attach the Filter driver\n",
    "overlay = Overlay('fir_accel.bit')\n",
    "\n",
    "# Run the hardware FIR filter via the custom driver and measure time\n",
    "start_time = time.time()\n",
    "result = overlay.filter.fir_filter(samples)\n",
    "stop_time = time.time()\n",
    "\n",
    "print('Hardware FIR execution time (with driver):', stop_time - start_time)\n",
    "\n",
    "# Plot the result using the unified driver method\n",
    "plot_to_notebook(t, samples, 1000, out_signal=result)"
   ]
  }
 ],
 "metadata": {
  "kernelspec": {
   "display_name": "Python 3 (ipykernel)",
   "language": "python",
   "name": "python3"
  },
  "language_info": {
   "codemirror_mode": {
    "name": "ipython",
    "version": 3
   },
   "file_extension": ".py",
   "mimetype": "text/x-python",
   "name": "python",
   "nbconvert_exporter": "python",
   "pygments_lexer": "ipython3",
   "version": "3.10.4"
  }
 },
 "nbformat": 4,
 "nbformat_minor": 5
}
